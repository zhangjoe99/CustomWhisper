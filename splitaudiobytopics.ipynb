{
 "cells": [
  {
   "cell_type": "code",
   "execution_count": 72,
   "metadata": {},
   "outputs": [],
   "source": [
    "import os\n",
    "\n",
    "from keybert import KeyBERT\n",
    "import whisper\n",
    "import urllib.request\n",
    "from pydub import AudioSegment\n",
    "from pydub.silence import split_on_silence\n",
    "import math"
   ]
  },
  {
   "cell_type": "code",
   "execution_count": 2,
   "metadata": {},
   "outputs": [
    {
     "data": {
      "text/plain": "<_io.BufferedRandom name='audio.wav'>"
     },
     "execution_count": 2,
     "metadata": {},
     "output_type": "execute_result"
    }
   ],
   "source": [
    "# Configurations\n",
    "\n",
    "# anything under SILENT_TRESH dBFS is considered silence\n",
    "# if clips duration are so long, SILENT_TRESH must be a lower value (between 60 an 85 must be ok)\n",
    "SILENT_TRESH = 60\n",
    "MAX_LOCAL_TOPICS = 4\n",
    "LANGUAGE = \"English\"\n",
    "\n",
    "\n",
    "# AUDIO_URL = \"https://stakwork-uploads-dev.s3.amazonaws.com/short_ep_48_kevin_rooke.mp3\"\n",
    "AUDIO_URL = \"https://soundcloud.com/bitcoin-podcast/corb-lund-the-bitcoin-cowboy?si=aea5659804774d60827f98bd5f4db427&utm_source=clipboard&utm_medium=text&utm_campaign=social_sharing\"\n",
    "\n",
    "filebasename = \"audio\"\n",
    "\n",
    "#inits\n",
    "model = whisper.load_model(\"base\")\n",
    "kw_model = KeyBERT()\n",
    "\n",
    "# Download audio file\n",
    "urllib.request.urlretrieve(AUDIO_URL, filebasename + \".mp3\")\n",
    "\n",
    "# Convert audio file\n",
    "# sound = AudioSegment.from_mp3(filebasename + \".mp3\")\n",
    "sound = AudioSegment.from_mp3(\"btccowboy\" + \".mp3\")\n",
    "sound.export(filebasename + \".wav\", format=\"wav\")\n"
   ]
  },
  {
   "cell_type": "code",
   "execution_count": 4,
   "outputs": [
    {
     "name": "stdout",
     "output_type": "stream",
     "text": [
      "THIS PROCESS COULD TAKE LONG, PLEASE BE PATIENT!\n",
      "audio_chunks: [<pydub.audio_segment.AudioSegment object at 0x296048760>, <pydub.audio_segment.AudioSegment object at 0x296048af0>, <pydub.audio_segment.AudioSegment object at 0x2960541f0>, <pydub.audio_segment.AudioSegment object at 0x296054be0>, <pydub.audio_segment.AudioSegment object at 0x2960542e0>, <pydub.audio_segment.AudioSegment object at 0x296054970>, <pydub.audio_segment.AudioSegment object at 0x2960546a0>, <pydub.audio_segment.AudioSegment object at 0x296054130>, <pydub.audio_segment.AudioSegment object at 0x1040f96d0>, <pydub.audio_segment.AudioSegment object at 0x1040f9880>, <pydub.audio_segment.AudioSegment object at 0x1040f9970>, <pydub.audio_segment.AudioSegment object at 0x2ae90bdc0>, <pydub.audio_segment.AudioSegment object at 0x2ae90bf70>, <pydub.audio_segment.AudioSegment object at 0x2ae90be50>, <pydub.audio_segment.AudioSegment object at 0x2ae90bfd0>, <pydub.audio_segment.AudioSegment object at 0x2ae90bd90>, <pydub.audio_segment.AudioSegment object at 0x2ae90bd30>, <pydub.audio_segment.AudioSegment object at 0x2ae90ba00>, <pydub.audio_segment.AudioSegment object at 0x2ae90bee0>, <pydub.audio_segment.AudioSegment object at 0x2ae90bf40>, <pydub.audio_segment.AudioSegment object at 0x2ae935c40>, <pydub.audio_segment.AudioSegment object at 0x2ae935c70>, <pydub.audio_segment.AudioSegment object at 0x2ae935bb0>, <pydub.audio_segment.AudioSegment object at 0x2ae935df0>, <pydub.audio_segment.AudioSegment object at 0x2ae935f70>, <pydub.audio_segment.AudioSegment object at 0x2ae935d90>, <pydub.audio_segment.AudioSegment object at 0x2ae935eb0>, <pydub.audio_segment.AudioSegment object at 0x2ae9357c0>, <pydub.audio_segment.AudioSegment object at 0x2ae9359a0>, <pydub.audio_segment.AudioSegment object at 0x2ae935850>, <pydub.audio_segment.AudioSegment object at 0x29a8071c0>, <pydub.audio_segment.AudioSegment object at 0x29a807b80>, <pydub.audio_segment.AudioSegment object at 0x29a807610>, <pydub.audio_segment.AudioSegment object at 0x29a8072e0>, <pydub.audio_segment.AudioSegment object at 0x29a8077f0>, <pydub.audio_segment.AudioSegment object at 0x29a807af0>, <pydub.audio_segment.AudioSegment object at 0x29a8079d0>, <pydub.audio_segment.AudioSegment object at 0x29a807160>, <pydub.audio_segment.AudioSegment object at 0x29a8077c0>, <pydub.audio_segment.AudioSegment object at 0x29a8073a0>, <pydub.audio_segment.AudioSegment object at 0x29a807e20>]\n",
      "DONE!\n"
     ]
    }
   ],
   "source": [
    "# Split the audio in silents and put them in a list called audio_chunks\n",
    "\n",
    "\n",
    "#remove old chunks in folder\n",
    "mydir=\"./\"\n",
    "for f in os.listdir(mydir):\n",
    "    if not f.startswith(\"chunk\"):\n",
    "        continue\n",
    "    os.remove(f)\n",
    "\n",
    "#Splittin audio in silences\n",
    "finalList = []\n",
    "print(\"THIS PROCESS COULD TAKE LONG, PLEASE BE PATIENT!\")\n",
    "audio_chunks = split_on_silence(sound, silence_thresh=-SILENT_TRESH)\n",
    "print(\"audio_chunks:\",audio_chunks)\n",
    "print(\"DONE!\")"
   ],
   "metadata": {
    "collapsed": false
   }
  },
  {
   "cell_type": "code",
   "execution_count": 85,
   "outputs": [
    {
     "name": "stdout",
     "output_type": "stream",
     "text": [
      "original sound duration: 2065.031836734694\n",
      "totalduraton: 2012.0889795918372\n",
      "chunk 0 : 0 - 80  -----  80\n",
      "chunk 1 : 80 - 97  -----  17\n",
      "chunk 2 : 97 - 191  -----  93\n",
      "chunk 3 : 191 - 252  -----  61\n",
      "chunk 4 : 252 - 266  -----  14\n",
      "chunk 5 : 266 - 423  -----  156\n",
      "chunk 6 : 423 - 429  -----  6\n",
      "chunk 7 : 429 - 435  -----  5\n",
      "chunk 8 : 435 - 475  -----  39\n",
      "chunk 9 : 475 - 561  -----  86\n",
      "chunk 10 : 561 - 708  -----  146\n",
      "chunk 11 : 708 - 728  -----  20\n",
      "chunk 12 : 728 - 814  -----  85\n",
      "chunk 13 : 814 - 918  -----  104\n",
      "chunk 14 : 918 - 984  -----  65\n",
      "chunk 15 : 984 - 996  -----  12\n",
      "chunk 16 : 996 - 1059  -----  63\n",
      "chunk 17 : 1059 - 1075  -----  15\n",
      "chunk 18 : 1075 - 1108  -----  32\n",
      "chunk 19 : 1108 - 1161  -----  53\n",
      "chunk 20 : 1161 - 1174  -----  12\n",
      "chunk 21 : 1174 - 1228  -----  54\n",
      "chunk 22 : 1228 - 1237  -----  8\n",
      "chunk 23 : 1237 - 1278  -----  40\n",
      "chunk 24 : 1278 - 1375  -----  97\n",
      "chunk 25 : 1375 - 1381  -----  5\n",
      "chunk 26 : 1381 - 1500  -----  119\n",
      "chunk 27 : 1500 - 1503  -----  2\n",
      "chunk 28 : 1503 - 1534  -----  31\n",
      "chunk 29 : 1534 - 1550  -----  15\n",
      "chunk 30 : 1550 - 1733  -----  183\n",
      "chunk 31 : 1733 - 1824  -----  91\n",
      "chunk 32 : 1824 - 1887  -----  62\n",
      "chunk 33 : 1887 - 1902  -----  15\n",
      "chunk 34 : 1902 - 1914  -----  12\n",
      "chunk 35 : 1914 - 1924  -----  9\n",
      "chunk 36 : 1924 - 1925  -----  0\n",
      "chunk 37 : 1925 - 1940  -----  15\n",
      "chunk 38 : 1940 - 1980  -----  39\n",
      "chunk 39 : 1980 - 1983  -----  3\n",
      "chunk 40 : 1983 - 2012  -----  28\n",
      "[[0, 0, 80], [1, 80, 97], [2, 97, 191], [3, 191, 252], [4, 252, 266], [5, 266, 423], [6, 423, 429], [7, 429, 435], [8, 435, 475], [9, 475, 561], [10, 561, 708], [11, 708, 728], [12, 728, 814], [13, 814, 918], [14, 918, 984], [15, 984, 996], [16, 996, 1059], [17, 1059, 1075], [18, 1075, 1108], [19, 1108, 1161], [20, 1161, 1174], [21, 1174, 1228], [22, 1228, 1237], [23, 1237, 1278], [24, 1278, 1375], [25, 1375, 1381], [26, 1381, 1500], [27, 1500, 1503], [28, 1503, 1534], [29, 1534, 1550], [30, 1550, 1733], [31, 1733, 1824], [32, 1824, 1887], [33, 1887, 1902], [34, 1902, 1914], [35, 1914, 1924], [36, 1924, 1925], [37, 1925, 1940], [38, 1940, 1980], [39, 1980, 1983], [40, 1983, 2012]]\n"
     ]
    }
   ],
   "source": [
    "# get the audio_chunks list and calculate the timestamps. Then save them in a timestamps list\n",
    "\n",
    "totalduration = 0\n",
    "for chunk in audio_chunks:\n",
    "    totalduration += chunk.duration_seconds\n",
    "print(\"original sound duration:\", sound.duration_seconds)\n",
    "print(\"totalduraton:\", totalduration)\n",
    "\n",
    "timestamps=[]\n",
    "def get_start_end_time(audio_chunks):\n",
    "    #get the start time and the end time of each chunk\n",
    "    start_time = 0\n",
    "    end_time = 0\n",
    "    for i, chunk in enumerate(audio_chunks):\n",
    "        end_time = start_time + len(chunk)\n",
    "        timestamps.append([i,math.trunc(start_time/1000),math.trunc(end_time/1000)])\n",
    "        print(\"chunk\",i,\":\",math.trunc(start_time/1000),\"-\",math.trunc(end_time/1000) , \" ----- \",math.trunc(chunk.duration_seconds))\n",
    "\n",
    "        start_time = end_time\n",
    "    return\n",
    "\n",
    "get_start_end_time(audio_chunks)\n",
    "print(timestamps)"
   ],
   "metadata": {
    "collapsed": false
   }
  },
  {
   "cell_type": "code",
   "execution_count": 86,
   "outputs": [
    {
     "name": "stdout",
     "output_type": "stream",
     "text": [
      "original sound duration: 2065.031836734694\n",
      "totalduraton: 2012.0889795918372\n"
     ]
    }
   ],
   "source": [
    "# CAN BE DELETED\n",
    "# Print results to check duration\n",
    "totalduration = 0\n",
    "for chunk in audio_chunks:\n",
    "    totalduration += chunk.duration_seconds\n",
    "print(\"original sound duration:\", sound.duration_seconds)\n",
    "print(\"totalduraton:\", totalduration)"
   ],
   "metadata": {
    "collapsed": false
   }
  },
  {
   "cell_type": "code",
   "execution_count": 87,
   "outputs": [
    {
     "name": "stderr",
     "output_type": "stream",
     "text": [
      "100%|██████████| 8010/8010 [00:06<00:00, 1282.00frames/s]\n"
     ]
    },
    {
     "name": "stdout",
     "output_type": "stream",
     "text": [
      "chunk  0  duration  80.10498866213152  topics:  ['corb', 'bitcoin', 'podcast', 'listening']\n"
     ]
    },
    {
     "name": "stderr",
     "output_type": "stream",
     "text": [
      "100%|██████████| 1769/1769 [00:02<00:00, 638.53frames/s]\n"
     ]
    },
    {
     "name": "stdout",
     "output_type": "stream",
     "text": [
      "chunk  1  duration  17.697006802721088  topics:  ['music', 'london', 'corb', 'doing']\n"
     ]
    },
    {
     "name": "stderr",
     "output_type": "stream",
     "text": [
      "100%|██████████| 9321/9321 [00:09<00:00, 939.12frames/s] \n"
     ]
    },
    {
     "name": "stdout",
     "output_type": "stream",
     "text": [
      "chunk  2  duration  93.21600907029479  topics:  ['music', 'radio', 'songwriting', 'underground']\n"
     ]
    },
    {
     "name": "stderr",
     "output_type": "stream",
     "text": [
      "100%|██████████| 6124/6124 [00:05<00:00, 1194.38frames/s]\n"
     ]
    },
    {
     "name": "stdout",
     "output_type": "stream",
     "text": [
      "chunk  3  duration  61.2409977324263  topics:  ['audience', 'culturally', 'diverse', 'music']\n"
     ]
    },
    {
     "name": "stderr",
     "output_type": "stream",
     "text": [
      "100%|██████████| 1463/1463 [00:02<00:00, 691.17frames/s]\n"
     ]
    },
    {
     "name": "stdout",
     "output_type": "stream",
     "text": [
      "chunk  4  duration  14.63498866213152  topics:  ['canada', 'japan', 'australia', 'uk']\n"
     ]
    },
    {
     "name": "stderr",
     "output_type": "stream",
     "text": [
      "100%|██████████| 15640/15640 [00:14<00:00, 1113.62frames/s]\n"
     ]
    },
    {
     "name": "stdout",
     "output_type": "stream",
     "text": [
      "chunk  5  duration  156.40201814058958  topics:  ['music', 'listening', 'bluegrass', 'rock']\n"
     ]
    },
    {
     "name": "stderr",
     "output_type": "stream",
     "text": [
      "100%|██████████| 645/645 [00:00<00:00, 814.91frames/s]\n"
     ]
    },
    {
     "name": "stdout",
     "output_type": "stream",
     "text": [
      "chunk  6  duration  6.458004535147392  topics:  ['democratic', 'fork', 'source', 'really']\n"
     ]
    },
    {
     "name": "stderr",
     "output_type": "stream",
     "text": [
      "100%|██████████| 561/561 [00:00<00:00, 840.60frames/s]\n"
     ]
    },
    {
     "name": "stdout",
     "output_type": "stream",
     "text": [
      "chunk  7  duration  5.618004535147392  topics:  ['watch', 'interesting', 'going', 'think']\n"
     ]
    },
    {
     "name": "stderr",
     "output_type": "stream",
     "text": [
      "100%|██████████| 3971/3971 [00:04<00:00, 937.29frames/s] \n"
     ]
    },
    {
     "name": "stdout",
     "output_type": "stream",
     "text": [
      "chunk  8  duration  39.71  topics:  ['bitcoin', 'cryptocurrencies', 'investing', 'future']\n"
     ]
    },
    {
     "name": "stderr",
     "output_type": "stream",
     "text": [
      "100%|██████████| 8667/8667 [00:07<00:00, 1099.60frames/s]\n"
     ]
    },
    {
     "name": "stdout",
     "output_type": "stream",
     "text": [
      "chunk  9  duration  86.6780045351474  topics:  ['casino', 'cryptocurrencies', 'transactions', 'vegas']\n"
     ]
    },
    {
     "name": "stderr",
     "output_type": "stream",
     "text": [
      "100%|██████████| 14633/14633 [00:15<00:00, 958.39frames/s]\n"
     ]
    },
    {
     "name": "stdout",
     "output_type": "stream",
     "text": [
      "chunk  10  duration  146.33700680272108  topics:  ['technologies', 'mp3s', 'ip3s', 'tech']\n"
     ]
    },
    {
     "name": "stderr",
     "output_type": "stream",
     "text": [
      "100%|██████████| 2060/2060 [00:02<00:00, 767.35frames/s]\n"
     ]
    },
    {
     "name": "stdout",
     "output_type": "stream",
     "text": [
      "chunk  11  duration  20.60800453514739  topics:  ['bitcoin', 'learn', 'say', 'regulated']\n"
     ]
    },
    {
     "name": "stderr",
     "output_type": "stream",
     "text": [
      "100%|██████████| 8536/8536 [00:08<00:00, 990.04frames/s] \n"
     ]
    },
    {
     "name": "stdout",
     "output_type": "stream",
     "text": [
      "chunk  12  duration  85.36600907029478  topics:  ['uber', 'bitcoin', 'cryptocurrencies', 'banking']\n"
     ]
    },
    {
     "name": "stderr",
     "output_type": "stream",
     "text": [
      "100%|██████████| 10480/10480 [00:10<00:00, 1026.73frames/s]\n"
     ]
    },
    {
     "name": "stdout",
     "output_type": "stream",
     "text": [
      "chunk  13  duration  104.8  topics:  ['bitcoin', 'coin', 'odds', 'funny']\n"
     ]
    },
    {
     "name": "stderr",
     "output_type": "stream",
     "text": [
      "100%|██████████| 6518/6518 [00:09<00:00, 707.11frames/s] \n"
     ]
    },
    {
     "name": "stdout",
     "output_type": "stream",
     "text": [
      "chunk  14  duration  65.1809977324263  topics:  ['debt', 'globalized', 'trillion', 'ledger']\n"
     ]
    },
    {
     "name": "stderr",
     "output_type": "stream",
     "text": [
      "100%|██████████| 1221/1221 [00:01<00:00, 737.98frames/s]\n"
     ]
    },
    {
     "name": "stdout",
     "output_type": "stream",
     "text": [
      "chunk  15  duration  12.21700680272109  topics:  ['currency', 'inflation', 'civilizations', 'historically']\n"
     ]
    },
    {
     "name": "stderr",
     "output_type": "stream",
     "text": [
      "100%|██████████| 6338/6338 [00:06<00:00, 949.72frames/s] \n"
     ]
    },
    {
     "name": "stdout",
     "output_type": "stream",
     "text": [
      "chunk  16  duration  63.3809977324263  topics:  ['venezuela', 'euro', 'bitcoin', 'greece']\n"
     ]
    },
    {
     "name": "stderr",
     "output_type": "stream",
     "text": [
      "100%|██████████| 1594/1594 [00:02<00:00, 734.69frames/s]\n"
     ]
    },
    {
     "name": "stdout",
     "output_type": "stream",
     "text": [
      "chunk  17  duration  15.945986394557822  topics:  ['shopify', 'coin', 'definitely', 'transactions']\n"
     ]
    },
    {
     "name": "stderr",
     "output_type": "stream",
     "text": [
      "100%|██████████| 3260/3260 [00:02<00:00, 1136.74frames/s]\n"
     ]
    },
    {
     "name": "stdout",
     "output_type": "stream",
     "text": [
      "chunk  18  duration  32.608004535147394  topics:  ['purchasing', 'amazon', 'buy', 'bitcoin']\n"
     ]
    },
    {
     "name": "stderr",
     "output_type": "stream",
     "text": [
      "100%|██████████| 5319/5319 [00:04<00:00, 1189.09frames/s]\n"
     ]
    },
    {
     "name": "stdout",
     "output_type": "stream",
     "text": [
      "chunk  19  duration  53.19  topics:  ['bitcoin', 'shopify', 'investing', 'rural']\n"
     ]
    },
    {
     "name": "stderr",
     "output_type": "stream",
     "text": [
      "100%|██████████| 1271/1271 [00:01<00:00, 689.89frames/s]\n"
     ]
    },
    {
     "name": "stdout",
     "output_type": "stream",
     "text": [
      "chunk  20  duration  12.71498866213152  topics:  ['theorem', 'smart', 'mainstream', 'asking']\n"
     ]
    },
    {
     "name": "stderr",
     "output_type": "stream",
     "text": [
      "100%|██████████| 5451/5451 [00:18<00:00, 300.32frames/s] \n"
     ]
    },
    {
     "name": "stdout",
     "output_type": "stream",
     "text": [
      "chunk  21  duration  54.5190022675737  topics:  ['bitcoin', 'fork', 'crypto', 'blockchain']\n"
     ]
    },
    {
     "name": "stderr",
     "output_type": "stream",
     "text": [
      "100%|██████████| 899/899 [00:00<00:00, 919.39frames/s]\n"
     ]
    },
    {
     "name": "stdout",
     "output_type": "stream",
     "text": [
      "chunk  22  duration  8.994988662131519  topics:  ['bitcoin', 'cash', 'future', 'predictions']\n"
     ]
    },
    {
     "name": "stderr",
     "output_type": "stream",
     "text": [
      "100%|██████████| 4092/4092 [00:04<00:00, 926.86frames/s] \n"
     ]
    },
    {
     "name": "stdout",
     "output_type": "stream",
     "text": [
      "chunk  23  duration  40.92299319727891  topics:  ['bitcoin', 'cash', 'decimal', 'grade']\n"
     ]
    },
    {
     "name": "stderr",
     "output_type": "stream",
     "text": [
      "100%|██████████| 9742/9742 [00:08<00:00, 1093.27frames/s]\n"
     ]
    },
    {
     "name": "stdout",
     "output_type": "stream",
     "text": [
      "chunk  24  duration  97.42501133786848  topics:  ['slowing', 'core', 'lag', 'transactions']\n"
     ]
    },
    {
     "name": "stderr",
     "output_type": "stream",
     "text": [
      "100%|██████████| 533/533 [00:00<00:00, 966.20frames/s]\n"
     ]
    },
    {
     "name": "stdout",
     "output_type": "stream",
     "text": [
      "chunk  25  duration  5.3349886621315195  topics:  ['hope', 'sad', 'feel', 'actually']\n"
     ]
    },
    {
     "name": "stderr",
     "output_type": "stream",
     "text": [
      "100%|██████████| 11945/11945 [00:11<00:00, 1011.09frames/s]\n"
     ]
    },
    {
     "name": "stdout",
     "output_type": "stream",
     "text": [
      "chunk  26  duration  119.45897959183674  topics:  ['bitcoin', 'cryptocurrencies', 'slowed', 'growth']\n"
     ]
    },
    {
     "name": "stderr",
     "output_type": "stream",
     "text": [
      "100%|██████████| 273/273 [00:02<00:00, 101.76frames/s]\n"
     ]
    },
    {
     "name": "stdout",
     "output_type": "stream",
     "text": [
      "chunk  27  duration  2.7380045351473923  topics:  ['art', 'did', 'say']\n"
     ]
    },
    {
     "name": "stderr",
     "output_type": "stream",
     "text": [
      "100%|██████████| 3135/3135 [00:02<00:00, 1187.96frames/s]\n"
     ]
    },
    {
     "name": "stdout",
     "output_type": "stream",
     "text": [
      "chunk  28  duration  31.352993197278913  topics:  ['split', 'double', 'court', 'bigger']\n"
     ]
    },
    {
     "name": "stderr",
     "output_type": "stream",
     "text": [
      "100%|██████████| 1517/1517 [00:03<00:00, 387.59frames/s]\n"
     ]
    },
    {
     "name": "stdout",
     "output_type": "stream",
     "text": [
      "chunk  29  duration  15.173990929705216  topics:  ['bandwidth', 'segwit', 'narrow', 'bigger']\n"
     ]
    },
    {
     "name": "stderr",
     "output_type": "stream",
     "text": [
      "100%|██████████| 18334/18334 [00:19<00:00, 955.63frames/s] \n"
     ]
    },
    {
     "name": "stdout",
     "output_type": "stream",
     "text": [
      "chunk  30  duration  183.3429931972789  topics:  ['crises', 'bitcoin', 'hopefully', 'happening']\n"
     ]
    },
    {
     "name": "stderr",
     "output_type": "stream",
     "text": [
      "100%|██████████| 9114/9114 [00:09<00:00, 960.42frames/s] \n"
     ]
    },
    {
     "name": "stdout",
     "output_type": "stream",
     "text": [
      "chunk  31  duration  91.14501133786848  topics:  ['bitcoin', 'talk', 'say', 'money']\n"
     ]
    },
    {
     "name": "stderr",
     "output_type": "stream",
     "text": [
      "100%|██████████| 6295/6295 [00:05<00:00, 1067.16frames/s]\n"
     ]
    },
    {
     "name": "stdout",
     "output_type": "stream",
     "text": [
      "chunk  32  duration  62.959002267573695  topics:  ['bitcoin', 'fascinating', 'watching', 'watch']\n"
     ]
    },
    {
     "name": "stderr",
     "output_type": "stream",
     "text": [
      "100%|██████████| 1522/1522 [00:02<00:00, 669.94frames/s]\n"
     ]
    },
    {
     "name": "stdout",
     "output_type": "stream",
     "text": [
      "chunk  33  duration  15.229002267573696  topics:  ['spotify', 'sure', 'records', 'corvlund']\n"
     ]
    },
    {
     "name": "stderr",
     "output_type": "stream",
     "text": [
      "100%|██████████| 1228/1228 [00:02<00:00, 597.49frames/s]\n"
     ]
    },
    {
     "name": "stdout",
     "output_type": "stream",
     "text": [
      "chunk  34  duration  12.280997732426304  topics:  ['touring', 'tour', 'songs', 'going']\n"
     ]
    },
    {
     "name": "stderr",
     "output_type": "stream",
     "text": [
      "100%|██████████| 954/954 [00:03<00:00, 279.34frames/s]\n"
     ]
    },
    {
     "name": "stdout",
     "output_type": "stream",
     "text": [
      "chunk  35  duration  9.549002267573696  topics:  ['eastern', 'tour', 'montana', 'canadian']\n"
     ]
    },
    {
     "name": "stderr",
     "output_type": "stream",
     "text": [
      "100%|██████████| 66/66 [00:00<00:00, 153.83frames/s]\n"
     ]
    },
    {
     "name": "stdout",
     "output_type": "stream",
     "text": [
      "chunk  36  duration  0.6619954648526077  topics:  ['okay', 'll']\n"
     ]
    },
    {
     "name": "stderr",
     "output_type": "stream",
     "text": [
      "100%|██████████| 1544/1544 [00:04<00:00, 383.08frames/s]\n"
     ]
    },
    {
     "name": "stdout",
     "output_type": "stream",
     "text": [
      "chunk  37  duration  15.444013605442176  topics:  ['joining', 'bitcoin', 'join', 'meet']\n"
     ]
    },
    {
     "name": "stderr",
     "output_type": "stream",
     "text": [
      "100%|██████████| 3969/3969 [00:04<00:00, 864.34frames/s] \n"
     ]
    },
    {
     "name": "stdout",
     "output_type": "stream",
     "text": [
      "chunk  38  duration  39.69199546485261  topics:  ['jennings', 'musician', 'musicians', 'artist']\n"
     ]
    },
    {
     "name": "stderr",
     "output_type": "stream",
     "text": [
      "100%|██████████| 346/346 [00:00<00:00, 708.79frames/s]\n"
     ]
    },
    {
     "name": "stdout",
     "output_type": "stream",
     "text": [
      "chunk  39  duration  3.461995464852608  topics:  ['moon', 'right']\n"
     ]
    },
    {
     "name": "stderr",
     "output_type": "stream",
     "text": [
      "100%|██████████| 2829/2829 [00:01<00:00, 1466.11frames/s]"
     ]
    },
    {
     "name": "stdout",
     "output_type": "stream",
     "text": [
      "chunk  40  duration  28.29299319727891  topics:  ['bitcoin', 'wallet', 'podcast', 'satoshi']\n"
     ]
    },
    {
     "name": "stderr",
     "output_type": "stream",
     "text": [
      "\n"
     ]
    }
   ],
   "source": [
    "# get the topics of each chunk in audio_chunk list and obtain a list with order, chunk, topics othe chunk and timestamps called chunk_topic_list\n",
    "\n",
    "chunk_topic_list=[]\n",
    "for i, chunk in enumerate(audio_chunks):\n",
    "   out_file = \"chunk{0}.wav\".format(i)\n",
    "   chunk.export(out_file, format=\"wav\")\n",
    "   transcriptLocal = model.transcribe(out_file, fp16=False, max_initial_timestamp=None, verbose=False, language=LANGUAGE)\n",
    "   keywordsLocal = kw_model.extract_keywords(transcriptLocal[\"text\"], top_n=MAX_LOCAL_TOPICS)\n",
    "   local_topics=[]\n",
    "   for j in range(len(keywordsLocal)):\n",
    "       if j <= MAX_LOCAL_TOPICS:\n",
    "          local_topics.append(keywordsLocal[j][0])\n",
    "\n",
    "   print(\"chunk \", i , \" duration \", chunk.duration_seconds, \" topics: \",local_topics )\n",
    "   chunk_topic_list.append([i,chunk,local_topics,timestamps[i]])\n"
   ],
   "metadata": {
    "collapsed": false
   }
  },
  {
   "cell_type": "code",
   "execution_count": 91,
   "outputs": [
    {
     "name": "stdout",
     "output_type": "stream",
     "text": [
      "chunk  0  duration  80.10498866213152  topics:  ['corb', 'bitcoin', 'podcast', 'listening']  start: 0  end: 80\n",
      "chunk  1  duration  17.697006802721088  topics:  ['music', 'london', 'corb', 'doing']  start: 80  end: 97\n",
      "chunk  2  duration  93.21600907029479  topics:  ['music', 'radio', 'songwriting', 'underground']  start: 97  end: 191\n",
      "chunk  3  duration  61.2409977324263  topics:  ['audience', 'culturally', 'diverse', 'music']  start: 191  end: 252\n",
      "chunk  4  duration  14.63498866213152  topics:  ['canada', 'japan', 'australia', 'uk']  start: 252  end: 266\n",
      "chunk  5  duration  156.40201814058958  topics:  ['music', 'listening', 'bluegrass', 'rock']  start: 266  end: 423\n",
      "chunk  6  duration  6.458004535147392  topics:  ['democratic', 'fork', 'source', 'really']  start: 423  end: 429\n",
      "chunk  7  duration  5.618004535147392  topics:  ['watch', 'interesting', 'going', 'think']  start: 429  end: 435\n",
      "chunk  8  duration  39.71  topics:  ['bitcoin', 'cryptocurrencies', 'investing', 'future']  start: 435  end: 475\n",
      "chunk  9  duration  86.6780045351474  topics:  ['casino', 'cryptocurrencies', 'transactions', 'vegas']  start: 475  end: 561\n",
      "chunk  10  duration  146.33700680272108  topics:  ['technologies', 'mp3s', 'ip3s', 'tech']  start: 561  end: 708\n",
      "chunk  11  duration  20.60800453514739  topics:  ['bitcoin', 'learn', 'say', 'regulated']  start: 708  end: 728\n",
      "chunk  12  duration  85.36600907029478  topics:  ['uber', 'bitcoin', 'cryptocurrencies', 'banking']  start: 728  end: 814\n",
      "chunk  13  duration  104.8  topics:  ['bitcoin', 'coin', 'odds', 'funny']  start: 814  end: 918\n",
      "chunk  14  duration  65.1809977324263  topics:  ['debt', 'globalized', 'trillion', 'ledger']  start: 918  end: 984\n",
      "chunk  15  duration  12.21700680272109  topics:  ['currency', 'inflation', 'civilizations', 'historically']  start: 984  end: 996\n",
      "chunk  16  duration  63.3809977324263  topics:  ['venezuela', 'euro', 'bitcoin', 'greece']  start: 996  end: 1059\n",
      "chunk  17  duration  15.945986394557822  topics:  ['shopify', 'coin', 'definitely', 'transactions']  start: 1059  end: 1075\n",
      "chunk  18  duration  32.608004535147394  topics:  ['purchasing', 'amazon', 'buy', 'bitcoin']  start: 1075  end: 1108\n",
      "chunk  19  duration  53.19  topics:  ['bitcoin', 'shopify', 'investing', 'rural']  start: 1108  end: 1161\n",
      "chunk  20  duration  12.71498866213152  topics:  ['theorem', 'smart', 'mainstream', 'asking']  start: 1161  end: 1174\n",
      "chunk  21  duration  54.5190022675737  topics:  ['bitcoin', 'fork', 'crypto', 'blockchain']  start: 1174  end: 1228\n",
      "chunk  22  duration  8.994988662131519  topics:  ['bitcoin', 'cash', 'future', 'predictions']  start: 1228  end: 1237\n",
      "chunk  23  duration  40.92299319727891  topics:  ['bitcoin', 'cash', 'decimal', 'grade']  start: 1237  end: 1278\n",
      "chunk  24  duration  97.42501133786848  topics:  ['slowing', 'core', 'lag', 'transactions']  start: 1278  end: 1375\n",
      "chunk  25  duration  5.3349886621315195  topics:  ['hope', 'sad', 'feel', 'actually']  start: 1375  end: 1381\n",
      "chunk  26  duration  119.45897959183674  topics:  ['bitcoin', 'cryptocurrencies', 'slowed', 'growth']  start: 1381  end: 1500\n",
      "chunk  27  duration  2.7380045351473923  topics:  ['art', 'did', 'say']  start: 1500  end: 1503\n",
      "chunk  28  duration  31.352993197278913  topics:  ['split', 'double', 'court', 'bigger']  start: 1503  end: 1534\n",
      "chunk  29  duration  15.173990929705216  topics:  ['bandwidth', 'segwit', 'narrow', 'bigger']  start: 1534  end: 1550\n",
      "chunk  30  duration  183.3429931972789  topics:  ['crises', 'bitcoin', 'hopefully', 'happening']  start: 1550  end: 1733\n",
      "chunk  31  duration  91.14501133786848  topics:  ['bitcoin', 'talk', 'say', 'money']  start: 1733  end: 1824\n",
      "chunk  32  duration  62.959002267573695  topics:  ['bitcoin', 'fascinating', 'watching', 'watch']  start: 1824  end: 1887\n",
      "chunk  33  duration  15.229002267573696  topics:  ['spotify', 'sure', 'records', 'corvlund']  start: 1887  end: 1902\n",
      "chunk  34  duration  12.280997732426304  topics:  ['touring', 'tour', 'songs', 'going']  start: 1902  end: 1914\n",
      "chunk  35  duration  9.549002267573696  topics:  ['eastern', 'tour', 'montana', 'canadian']  start: 1914  end: 1924\n",
      "chunk  36  duration  0.6619954648526077  topics:  ['okay', 'll']  start: 1924  end: 1925\n",
      "chunk  37  duration  15.444013605442176  topics:  ['joining', 'bitcoin', 'join', 'meet']  start: 1925  end: 1940\n",
      "chunk  38  duration  39.69199546485261  topics:  ['jennings', 'musician', 'musicians', 'artist']  start: 1940  end: 1980\n",
      "chunk  39  duration  3.461995464852608  topics:  ['moon', 'right']  start: 1980  end: 1983\n",
      "chunk  40  duration  28.29299319727891  topics:  ['bitcoin', 'wallet', 'podcast', 'satoshi']  start: 1983  end: 2012\n",
      "[[0, <pydub.audio_segment.AudioSegment object at 0x296048760>, ['corb', 'bitcoin', 'podcast', 'listening'], [0, 0, 80]], [1, <pydub.audio_segment.AudioSegment object at 0x296048af0>, ['music', 'london', 'corb', 'doing'], [1, 80, 97]], [2, <pydub.audio_segment.AudioSegment object at 0x2960541f0>, ['music', 'radio', 'songwriting', 'underground'], [2, 97, 191]], [3, <pydub.audio_segment.AudioSegment object at 0x296054be0>, ['audience', 'culturally', 'diverse', 'music'], [3, 191, 252]], [4, <pydub.audio_segment.AudioSegment object at 0x2960542e0>, ['canada', 'japan', 'australia', 'uk'], [4, 252, 266]], [5, <pydub.audio_segment.AudioSegment object at 0x296054970>, ['music', 'listening', 'bluegrass', 'rock'], [5, 266, 423]], [6, <pydub.audio_segment.AudioSegment object at 0x2960546a0>, ['democratic', 'fork', 'source', 'really'], [6, 423, 429]], [7, <pydub.audio_segment.AudioSegment object at 0x296054130>, ['watch', 'interesting', 'going', 'think'], [7, 429, 435]], [8, <pydub.audio_segment.AudioSegment object at 0x1040f96d0>, ['bitcoin', 'cryptocurrencies', 'investing', 'future'], [8, 435, 475]], [9, <pydub.audio_segment.AudioSegment object at 0x1040f9880>, ['casino', 'cryptocurrencies', 'transactions', 'vegas'], [9, 475, 561]], [10, <pydub.audio_segment.AudioSegment object at 0x1040f9970>, ['technologies', 'mp3s', 'ip3s', 'tech'], [10, 561, 708]], [11, <pydub.audio_segment.AudioSegment object at 0x2ae90bdc0>, ['bitcoin', 'learn', 'say', 'regulated'], [11, 708, 728]], [12, <pydub.audio_segment.AudioSegment object at 0x2ae90bf70>, ['uber', 'bitcoin', 'cryptocurrencies', 'banking'], [12, 728, 814]], [13, <pydub.audio_segment.AudioSegment object at 0x2ae90be50>, ['bitcoin', 'coin', 'odds', 'funny'], [13, 814, 918]], [14, <pydub.audio_segment.AudioSegment object at 0x2ae90bfd0>, ['debt', 'globalized', 'trillion', 'ledger'], [14, 918, 984]], [15, <pydub.audio_segment.AudioSegment object at 0x2ae90bd90>, ['currency', 'inflation', 'civilizations', 'historically'], [15, 984, 996]], [16, <pydub.audio_segment.AudioSegment object at 0x2ae90bd30>, ['venezuela', 'euro', 'bitcoin', 'greece'], [16, 996, 1059]], [17, <pydub.audio_segment.AudioSegment object at 0x2ae90ba00>, ['shopify', 'coin', 'definitely', 'transactions'], [17, 1059, 1075]], [18, <pydub.audio_segment.AudioSegment object at 0x2ae90bee0>, ['purchasing', 'amazon', 'buy', 'bitcoin'], [18, 1075, 1108]], [19, <pydub.audio_segment.AudioSegment object at 0x2ae90bf40>, ['bitcoin', 'shopify', 'investing', 'rural'], [19, 1108, 1161]], [20, <pydub.audio_segment.AudioSegment object at 0x2ae935c40>, ['theorem', 'smart', 'mainstream', 'asking'], [20, 1161, 1174]], [21, <pydub.audio_segment.AudioSegment object at 0x2ae935c70>, ['bitcoin', 'fork', 'crypto', 'blockchain'], [21, 1174, 1228]], [22, <pydub.audio_segment.AudioSegment object at 0x2ae935bb0>, ['bitcoin', 'cash', 'future', 'predictions'], [22, 1228, 1237]], [23, <pydub.audio_segment.AudioSegment object at 0x2ae935df0>, ['bitcoin', 'cash', 'decimal', 'grade'], [23, 1237, 1278]], [24, <pydub.audio_segment.AudioSegment object at 0x2ae935f70>, ['slowing', 'core', 'lag', 'transactions'], [24, 1278, 1375]], [25, <pydub.audio_segment.AudioSegment object at 0x2ae935d90>, ['hope', 'sad', 'feel', 'actually'], [25, 1375, 1381]], [26, <pydub.audio_segment.AudioSegment object at 0x2ae935eb0>, ['bitcoin', 'cryptocurrencies', 'slowed', 'growth'], [26, 1381, 1500]], [27, <pydub.audio_segment.AudioSegment object at 0x2ae9357c0>, ['art', 'did', 'say'], [27, 1500, 1503]], [28, <pydub.audio_segment.AudioSegment object at 0x2ae9359a0>, ['split', 'double', 'court', 'bigger'], [28, 1503, 1534]], [29, <pydub.audio_segment.AudioSegment object at 0x2ae935850>, ['bandwidth', 'segwit', 'narrow', 'bigger'], [29, 1534, 1550]], [30, <pydub.audio_segment.AudioSegment object at 0x29a8071c0>, ['crises', 'bitcoin', 'hopefully', 'happening'], [30, 1550, 1733]], [31, <pydub.audio_segment.AudioSegment object at 0x29a807b80>, ['bitcoin', 'talk', 'say', 'money'], [31, 1733, 1824]], [32, <pydub.audio_segment.AudioSegment object at 0x29a807610>, ['bitcoin', 'fascinating', 'watching', 'watch'], [32, 1824, 1887]], [33, <pydub.audio_segment.AudioSegment object at 0x29a8072e0>, ['spotify', 'sure', 'records', 'corvlund'], [33, 1887, 1902]], [34, <pydub.audio_segment.AudioSegment object at 0x29a8077f0>, ['touring', 'tour', 'songs', 'going'], [34, 1902, 1914]], [35, <pydub.audio_segment.AudioSegment object at 0x29a807af0>, ['eastern', 'tour', 'montana', 'canadian'], [35, 1914, 1924]], [36, <pydub.audio_segment.AudioSegment object at 0x29a8079d0>, ['okay', 'll'], [36, 1924, 1925]], [37, <pydub.audio_segment.AudioSegment object at 0x29a807160>, ['joining', 'bitcoin', 'join', 'meet'], [37, 1925, 1940]], [38, <pydub.audio_segment.AudioSegment object at 0x29a8077c0>, ['jennings', 'musician', 'musicians', 'artist'], [38, 1940, 1980]], [39, <pydub.audio_segment.AudioSegment object at 0x29a8073a0>, ['moon', 'right'], [39, 1980, 1983]], [40, <pydub.audio_segment.AudioSegment object at 0x29a807e20>, ['bitcoin', 'wallet', 'podcast', 'satoshi'], [40, 1983, 2012]]]\n"
     ]
    }
   ],
   "source": [
    "# CAN BE DELETED\n",
    "#printing results of chunk_topic_list.\n",
    "combined_segments = []\n",
    "for i,chunk,topics,timestamps in chunk_topic_list:\n",
    "    print(\"chunk \", i , \" duration \", chunk.duration_seconds, \" topics: \",topics, \" start:\", timestamps[1], \" end:\", timestamps[2])\n",
    "\n",
    "print(chunk_topic_list)\n"
   ],
   "metadata": {
    "collapsed": false
   }
  },
  {
   "cell_type": "code",
   "execution_count": 156,
   "outputs": [
    {
     "name": "stdout",
     "output_type": "stream",
     "text": [
      "time0-80-segment_0['corb', 'bitcoin', 'podcast', 'listening'].wav  duration  80.10498866213152\n",
      "1 shorter than 60 secs\n",
      "1 topics ['music', 'london', 'corb', 'doing']\n",
      "1 previous topics  ['corb', 'bitcoin', 'podcast', 'listening']\n",
      "1  same topic as previous\n",
      "last_end: 80\n",
      "combining  1  with  0  start:  0  ends  97\n",
      "time0-80-segment_0['corb', 'bitcoin', 'podcast', 'listening'].wav  ->  time0-97-segment_0['corb', 'bitcoin', 'podcast', 'listening', 'music', 'london', 'corb', 'doing'].wav\n",
      "0   97.80199546485261  start:  0  end:  97\n",
      "time97-191-segment_2['music', 'radio', 'songwriting', 'underground'].wav  duration  93.21600907029479\n",
      "time191-252-segment_3['audience', 'culturally', 'diverse', 'music'].wav  duration  61.2409977324263\n",
      "4 shorter than 60 secs\n",
      "4 topics ['canada', 'japan', 'australia', 'uk']\n",
      "4 previous topics  ['audience', 'culturally', 'diverse', 'music']\n",
      "4 NOT same topic as previous. Will Skip fragment.\n",
      "time252-266-segment_4['canada', 'japan', 'australia', 'uk'].wav  duration  14.63498866213152\n",
      "time266-423-segment_5['music', 'listening', 'bluegrass', 'rock'].wav  duration  156.40201814058958\n",
      "6 shorter than 60 secs\n",
      "6 topics ['democratic', 'fork', 'source', 'really']\n",
      "6 previous topics  ['music', 'listening', 'bluegrass', 'rock']\n",
      "6 NOT same topic as previous. Will Skip fragment.\n",
      "time423-429-segment_6['democratic', 'fork', 'source', 'really'].wav  duration  6.458004535147392\n",
      "7 shorter than 60 secs\n",
      "7 topics ['watch', 'interesting', 'going', 'think']\n",
      "7 previous topics  ['democratic', 'fork', 'source', 'really']\n",
      "7 NOT same topic as previous. Will Skip fragment.\n",
      "time429-435-segment_7['watch', 'interesting', 'going', 'think'].wav  duration  5.618004535147392\n",
      "8 shorter than 60 secs\n",
      "8 topics ['bitcoin', 'cryptocurrencies', 'investing', 'future']\n",
      "8 previous topics  ['watch', 'interesting', 'going', 'think']\n",
      "8 NOT same topic as previous. Will Skip fragment.\n",
      "time435-475-segment_8['bitcoin', 'cryptocurrencies', 'investing', 'future'].wav  duration  39.71\n",
      "time475-561-segment_9['casino', 'cryptocurrencies', 'transactions', 'vegas'].wav  duration  86.6780045351474\n",
      "time561-708-segment_10['technologies', 'mp3s', 'ip3s', 'tech'].wav  duration  146.33700680272108\n",
      "11 shorter than 60 secs\n",
      "11 topics ['bitcoin', 'learn', 'say', 'regulated']\n",
      "11 previous topics  ['technologies', 'mp3s', 'ip3s', 'tech']\n",
      "11 NOT same topic as previous. Will Skip fragment.\n",
      "time708-728-segment_11['bitcoin', 'learn', 'say', 'regulated'].wav  duration  20.60800453514739\n",
      "time728-814-segment_12['uber', 'bitcoin', 'cryptocurrencies', 'banking'].wav  duration  85.36600907029478\n",
      "time814-918-segment_13['bitcoin', 'coin', 'odds', 'funny'].wav  duration  104.8\n",
      "time918-984-segment_14['debt', 'globalized', 'trillion', 'ledger'].wav  duration  65.1809977324263\n",
      "15 shorter than 60 secs\n",
      "15 topics ['currency', 'inflation', 'civilizations', 'historically']\n",
      "15 previous topics  ['debt', 'globalized', 'trillion', 'ledger']\n",
      "15 NOT same topic as previous. Will Skip fragment.\n",
      "time984-996-segment_15['currency', 'inflation', 'civilizations', 'historically'].wav  duration  12.21700680272109\n",
      "time996-1059-segment_16['venezuela', 'euro', 'bitcoin', 'greece'].wav  duration  63.3809977324263\n",
      "17 shorter than 60 secs\n",
      "17 topics ['shopify', 'coin', 'definitely', 'transactions']\n",
      "17 previous topics  ['venezuela', 'euro', 'bitcoin', 'greece']\n",
      "17 NOT same topic as previous. Will Skip fragment.\n",
      "time1059-1075-segment_17['shopify', 'coin', 'definitely', 'transactions'].wav  duration  15.945986394557822\n",
      "18 shorter than 60 secs\n",
      "18 topics ['purchasing', 'amazon', 'buy', 'bitcoin']\n",
      "18 previous topics  ['shopify', 'coin', 'definitely', 'transactions']\n",
      "18\n",
      "18 NOT same topic as previous. Will Skip fragment.\n",
      "time1075-1108-segment_18['purchasing', 'amazon', 'buy', 'bitcoin'].wav  duration  32.608004535147394\n",
      "19 shorter than 60 secs\n",
      "19 topics ['bitcoin', 'shopify', 'investing', 'rural']\n",
      "19 previous topics  ['purchasing', 'amazon', 'buy', 'bitcoin']\n",
      "19  same topic as previous\n",
      "last_end: 1108\n",
      "19\n",
      "error renaming\n",
      "combining  19  with  18  start:  <pydub.audio_segment.AudioSegment object at 0x2df77bcd0>  ends  1161\n",
      "time<pydub.audio_segment.AudioSegment object at 0x2df77bcd0>-1108-segment_18['purchasing', 'amazon', 'buy', 'bitcoin'].wav  ->  time<pydub.audio_segment.AudioSegment object at 0x2df77bcd0>-1161-segment_18['purchasing', 'amazon', 'buy', 'bitcoin', 'bitcoin', 'shopify', 'investing', 'rural'].wav\n",
      "error renaming\n",
      "0   0.000997732426303855  start:  <pydub.audio_segment.AudioSegment object at 0x2df71e910>  end:  <pydub.audio_segment.AudioSegment object at 0x2df49dfd0>\n",
      "error renaming\n",
      "error renaming\n",
      "20 shorter than 60 secs\n",
      "20 topics ['theorem', 'smart', 'mainstream', 'asking']\n",
      "20 previous topics  ['bitcoin', 'shopify', 'investing', 'rural']\n",
      "20\n",
      "20 NOT same topic as previous. Will Skip fragment.\n",
      "time1161-1174-segment_20['theorem', 'smart', 'mainstream', 'asking'].wav  duration  12.71498866213152\n",
      "21 shorter than 60 secs\n",
      "21 topics ['bitcoin', 'fork', 'crypto', 'blockchain']\n",
      "21 previous topics  ['theorem', 'smart', 'mainstream', 'asking']\n",
      "21\n",
      "21 NOT same topic as previous. Will Skip fragment.\n",
      "time1174-1228-segment_21['bitcoin', 'fork', 'crypto', 'blockchain'].wav  duration  54.5190022675737\n",
      "22 shorter than 60 secs\n",
      "22 topics ['bitcoin', 'cash', 'future', 'predictions']\n",
      "22 previous topics  ['bitcoin', 'fork', 'crypto', 'blockchain']\n",
      "22  same topic as previous\n",
      "last_end: 1228\n",
      "22\n",
      "error renaming\n",
      "combining  22  with  21  start:  <pydub.audio_segment.AudioSegment object at 0x2e02edaf0>  ends  1237\n",
      "time<pydub.audio_segment.AudioSegment object at 0x2e02edaf0>-1228-segment_21['bitcoin', 'fork', 'crypto', 'blockchain'].wav  ->  time<pydub.audio_segment.AudioSegment object at 0x2e02edaf0>-1237-segment_21['bitcoin', 'fork', 'crypto', 'blockchain', 'bitcoin', 'cash', 'future', 'predictions'].wav\n",
      "error renaming\n",
      "0   0.000997732426303855  start:  <pydub.audio_segment.AudioSegment object at 0x2df77bcd0>  end:  <pydub.audio_segment.AudioSegment object at 0x2df49dfd0>\n",
      "error renaming\n",
      "error renaming\n",
      "23 shorter than 60 secs\n",
      "23 topics ['bitcoin', 'cash', 'decimal', 'grade']\n",
      "23 previous topics  ['bitcoin', 'cash', 'future', 'predictions']\n",
      "23  same topic as previous\n",
      "last_end: 1237\n",
      "23\n",
      "error renaming\n",
      "combining  23  with  22  start:  <pydub.audio_segment.AudioSegment object at 0x2df77bcd0>  ends  1278\n",
      "time<pydub.audio_segment.AudioSegment object at 0x2df77bcd0>-1237-segment_22['bitcoin', 'cash', 'future', 'predictions'].wav  ->  time<pydub.audio_segment.AudioSegment object at 0x2df77bcd0>-1278-segment_22['bitcoin', 'cash', 'future', 'predictions', 'bitcoin', 'cash', 'decimal', 'grade'].wav\n",
      "error renaming\n",
      "0   0.000997732426303855  start:  <pydub.audio_segment.AudioSegment object at 0x2c4151b20>  end:  <pydub.audio_segment.AudioSegment object at 0x2df49dfd0>\n",
      "error renaming\n",
      "error renaming\n",
      "time1278-1375-segment_24['slowing', 'core', 'lag', 'transactions'].wav  duration  97.42501133786848\n",
      "25 shorter than 60 secs\n",
      "25 topics ['hope', 'sad', 'feel', 'actually']\n",
      "25 previous topics  ['slowing', 'core', 'lag', 'transactions']\n",
      "25\n",
      "25 NOT same topic as previous. Will Skip fragment.\n",
      "time1375-1381-segment_25['hope', 'sad', 'feel', 'actually'].wav  duration  5.3349886621315195\n",
      "time1381-1500-segment_26['bitcoin', 'cryptocurrencies', 'slowed', 'growth'].wav  duration  119.45897959183674\n",
      "27 shorter than 60 secs\n",
      "27 topics ['art', 'did', 'say']\n",
      "27 previous topics  ['bitcoin', 'cryptocurrencies', 'slowed', 'growth']\n",
      "27\n",
      "27 NOT same topic as previous. Will Skip fragment.\n",
      "time1500-1503-segment_27['art', 'did', 'say'].wav  duration  2.7380045351473923\n",
      "28 shorter than 60 secs\n",
      "28 topics ['split', 'double', 'court', 'bigger']\n",
      "28 previous topics  ['art', 'did', 'say']\n",
      "28\n",
      "28 NOT same topic as previous. Will Skip fragment.\n",
      "time1503-1534-segment_28['split', 'double', 'court', 'bigger'].wav  duration  31.352993197278913\n",
      "29 shorter than 60 secs\n",
      "29 topics ['bandwidth', 'segwit', 'narrow', 'bigger']\n",
      "29 previous topics  ['split', 'double', 'court', 'bigger']\n",
      "29  same topic as previous\n",
      "last_end: 1534\n",
      "29\n",
      "error renaming\n",
      "combining  29  with  28  start:  <pydub.audio_segment.AudioSegment object at 0x2df77bd00>  ends  1550\n",
      "time<pydub.audio_segment.AudioSegment object at 0x2df77bd00>-1534-segment_28['split', 'double', 'court', 'bigger'].wav  ->  time<pydub.audio_segment.AudioSegment object at 0x2df77bd00>-1550-segment_28['split', 'double', 'court', 'bigger', 'bandwidth', 'segwit', 'narrow', 'bigger'].wav\n",
      "error renaming\n",
      "0   0.000997732426303855  start:  <pydub.audio_segment.AudioSegment object at 0x2c4151b20>  end:  <pydub.audio_segment.AudioSegment object at 0x2df49dfd0>\n",
      "error renaming\n",
      "error renaming\n",
      "time1550-1733-segment_30['crises', 'bitcoin', 'hopefully', 'happening'].wav  duration  183.3429931972789\n",
      "time1733-1824-segment_31['bitcoin', 'talk', 'say', 'money'].wav  duration  91.14501133786848\n",
      "time1824-1887-segment_32['bitcoin', 'fascinating', 'watching', 'watch'].wav  duration  62.959002267573695\n",
      "33 shorter than 60 secs\n",
      "33 topics ['spotify', 'sure', 'records', 'corvlund']\n",
      "33 previous topics  ['bitcoin', 'fascinating', 'watching', 'watch']\n",
      "33\n",
      "33 NOT same topic as previous. Will Skip fragment.\n",
      "time1887-1902-segment_33['spotify', 'sure', 'records', 'corvlund'].wav  duration  15.229002267573696\n",
      "34 shorter than 60 secs\n",
      "34 topics ['touring', 'tour', 'songs', 'going']\n",
      "34 previous topics  ['spotify', 'sure', 'records', 'corvlund']\n",
      "34\n",
      "34 NOT same topic as previous. Will Skip fragment.\n",
      "time1902-1914-segment_34['touring', 'tour', 'songs', 'going'].wav  duration  12.280997732426304\n",
      "35 shorter than 60 secs\n",
      "35 topics ['eastern', 'tour', 'montana', 'canadian']\n",
      "35 previous topics  ['touring', 'tour', 'songs', 'going']\n",
      "35  same topic as previous\n",
      "last_end: 1914\n",
      "35\n",
      "error renaming\n",
      "combining  35  with  34  start:  <pydub.audio_segment.AudioSegment object at 0x2df71e910>  ends  1924\n",
      "time<pydub.audio_segment.AudioSegment object at 0x2df71e910>-1914-segment_34['touring', 'tour', 'songs', 'going'].wav  ->  time<pydub.audio_segment.AudioSegment object at 0x2df71e910>-1924-segment_34['touring', 'tour', 'songs', 'going', 'eastern', 'tour', 'montana', 'canadian'].wav\n",
      "error renaming\n",
      "0   0.000997732426303855  start:  <pydub.audio_segment.AudioSegment object at 0x2df77bd00>  end:  <pydub.audio_segment.AudioSegment object at 0x2df49dfd0>\n",
      "error renaming\n",
      "error renaming\n",
      "36 shorter than 60 secs\n",
      "36 topics ['okay', 'll']\n",
      "36 previous topics  ['eastern', 'tour', 'montana', 'canadian']\n",
      "36\n",
      "36 NOT same topic as previous. Will Skip fragment.\n",
      "time1924-1925-segment_36['okay', 'll'].wav  duration  0.6619954648526077\n",
      "37 shorter than 60 secs\n",
      "37 topics ['joining', 'bitcoin', 'join', 'meet']\n",
      "37 previous topics  ['okay', 'll']\n",
      "37\n",
      "37 NOT same topic as previous. Will Skip fragment.\n",
      "time1925-1940-segment_37['joining', 'bitcoin', 'join', 'meet'].wav  duration  15.444013605442176\n",
      "38 shorter than 60 secs\n",
      "38 topics ['jennings', 'musician', 'musicians', 'artist']\n",
      "38 previous topics  ['joining', 'bitcoin', 'join', 'meet']\n",
      "38\n",
      "38 NOT same topic as previous. Will Skip fragment.\n",
      "time1940-1980-segment_38['jennings', 'musician', 'musicians', 'artist'].wav  duration  39.69199546485261\n",
      "39 shorter than 60 secs\n",
      "39 topics ['moon', 'right']\n",
      "39 previous topics  ['jennings', 'musician', 'musicians', 'artist']\n",
      "39\n",
      "39 NOT same topic as previous. Will Skip fragment.\n",
      "time1980-1983-segment_39['moon', 'right'].wav  duration  3.461995464852608\n",
      "40 shorter than 60 secs\n",
      "40 is 0 or  41\n",
      "combined_segments 40  duration  28.29299319727891\n",
      "time1983-2012-segment_40['bitcoin', 'wallet', 'podcast', 'satoshi'].wav  duration  28.29299319727891\n"
     ]
    }
   ],
   "source": [
    "# if a chunk is shorter than 60 seconds and if the topics are the same, we combine the chunk with the previous and get a list of final audios called segments_list.\n",
    "# also export the audio list to file with the name like 0-80-segment_0['corb', 'bitcoin', 'podcast', 'listening'].wav, where first numbers are the timestamps then the word segment and the number of the chunk. Then the list og topics.\n",
    "\n",
    "#remove old segments in folder\n",
    "mydir=\"./\"\n",
    "for f in os.listdir(mydir):\n",
    "    if not f.startswith(\"time\"):\n",
    "        continue\n",
    "    os.remove(f)\n",
    "\n",
    "#find short chunks and combine with previous if is same topic\n",
    "combined_segments = []\n",
    "segment_list=[]\n",
    "for i,chunk,topics,timestamp in chunk_topic_list:\n",
    "    #print(\"chunk \", i , \" duration \", chunk.duration_seconds, \" topics: \",topics )\n",
    "    if chunk.duration_seconds < 60:\n",
    "        print(i, \"shorter than 60 secs\")\n",
    "        # if i > 0 and i < len(segments) - 1:\n",
    "        if 0 < i < len(chunk_topic_list) - 1:\n",
    "            #if topics are in combined_segments[-1] topic list\n",
    "            previous_topics = chunk_topic_list[i-1][2]\n",
    "            print(i, \"topics\", topics)\n",
    "            print(i, \"previous topics \", previous_topics)\n",
    "            topic_found = False\n",
    "            for local_topic in topics:\n",
    "                if local_topic in previous_topics:\n",
    "                    topic_found = True\n",
    "\n",
    "            if topic_found:\n",
    "                print(i,\" same topic as previous\")\n",
    "                last_end = chunk_topic_list[i][3][1]\n",
    "                last_topics = chunk_topic_list[i-1][2]\n",
    "                print(\"last_end:\",last_end)\n",
    "\n",
    "                if i>17:\n",
    "                    print(i)\n",
    "\n",
    "                try:\n",
    "                    combined_segments[-1] = [combined_segments[i-1][0] + chunk, chunk_topic_list[i-1][3][1], timestamp[2]] #+ chunk_topic_list[i+1]\n",
    "                    # print(\"combining \", i ,\" with \", i-1, \" start: \", timestamps[i][1], \" ends \", timestamps[i][2], \" start \",  timestamps[i-1][1], \" end \",timestamps[i-1][2])\n",
    "                except:\n",
    "                    print(\"error renaming\")\n",
    "\n",
    "\n",
    "                start = combined_segments[0][1]\n",
    "\n",
    "                end = timestamp[2]\n",
    "\n",
    "                print(\"combining \", i ,\" with \", i-1, \" start: \", start, \" ends \", end)\n",
    "\n",
    "\n",
    "                print(\"time{}-{}-segment_{}{}.wav\".format(start,last_end,i-1,last_topics), \" -> \", \"time{}-{}-segment_{}{}.wav\".format(start,end,i-1,(last_topics + topics)))\n",
    "\n",
    "                # listing directories\n",
    "                # print (\"The dir is: %s\"%os.listdir(os.getcwd()))\n",
    "\n",
    "                try:\n",
    "                    os.rename((\"time{}-{}-segment_{}{}.wav\".format(start,last_end,i-1,last_topics)),\"time{}-{}-segment_{}{}.wav\".format(start,end,i-1,(last_topics+topics)))\n",
    "                except:\n",
    "                    print(\"error renaming\")\n",
    "\n",
    "                for j, combi_seg in enumerate(combined_segments):\n",
    "                    try:\n",
    "                        print(j, \" \",combi_seg[0].duration_seconds, \" start: \", combi_seg[1], \" end: \", combi_seg[2])\n",
    "                    except:\n",
    "                        print(\"error renaming\")\n",
    "            else:\n",
    "                if i>17:\n",
    "                    print(i)\n",
    "\n",
    "                print(i,\"NOT same topic as previous. Will Skip fragment.\")\n",
    "                segment_name = \"time{}-{}-segment_{}{}.wav\".format(timestamp[1],timestamp[2],i,topics)\n",
    "                # chunk.export(\"segment_{}{}.wav\".format(i,topics), format=\"wav\")\n",
    "                # chunk.export(segment_name, format=\"wav\")\n",
    "                print(segment_name, \" duration \", chunk.duration_seconds)\n",
    "                combined_segments = [chunk,timestamp[1],timestamp[2]]\n",
    "                # combined_segments.append([chunk, timestamp[1],timestamp[2]])\n",
    "        else:\n",
    "            print(i, \"is 0 or \", len(chunk_topic_list) )\n",
    "            combined_segments.append([chunk, timestamp[1],timestamp[2]])\n",
    "            print(\"combined_segments\", i , \" duration \", chunk.duration_seconds)\n",
    "            segment_name = \"time{}-{}-segment_{}{}.wav\".format(timestamp[1],timestamp[2],i,topics)\n",
    "            # chunk.export(\"segment_{}{}.wav\".format(i,topics), format=\"wav\")\n",
    "            chunk.export(segment_name, format=\"wav\")\n",
    "            print(segment_name, \" duration \", chunk.duration_seconds)\n",
    "            segment_list.append([i,chunk,topics])\n",
    "    else:\n",
    "        # combined_segments.append(chunk)\n",
    "        combined_segments.append([chunk, timestamp[1],timestamp[2]])\n",
    "        segment_name = \"time{}-{}-segment_{}{}.wav\".format(timestamp[1],timestamp[2],i,topics)\n",
    "        chunk.export(segment_name, format=\"wav\")\n",
    "        print(segment_name, \" duration \", chunk.duration_seconds)\n",
    "        segment_list.append([i,chunk,topics,segment_name])\n",
    "\n",
    "        #limpiar comined_segments?\n",
    "        #comined_segments = []\n"
   ],
   "metadata": {
    "collapsed": false
   }
  },
  {
   "cell_type": "code",
   "execution_count": 26,
   "outputs": [],
   "source": [],
   "metadata": {
    "collapsed": false
   }
  },
  {
   "cell_type": "code",
   "execution_count": 26,
   "outputs": [],
   "source": [],
   "metadata": {
    "collapsed": false
   }
  }
 ],
 "metadata": {
  "kernelspec": {
   "display_name": "Python 3.10.4 64-bit",
   "language": "python",
   "name": "python3"
  },
  "language_info": {
   "codemirror_mode": {
    "name": "ipython",
    "version": 3
   },
   "file_extension": ".py",
   "mimetype": "text/x-python",
   "name": "python",
   "nbconvert_exporter": "python",
   "pygments_lexer": "ipython3",
   "version": "3.10.4"
  },
  "orig_nbformat": 4,
  "vscode": {
   "interpreter": {
    "hash": "b8bea28108f2038d71d6c55dc1832caea8e99369792fc8ba76ab47212ed27435"
   }
  }
 },
 "nbformat": 4,
 "nbformat_minor": 2
}
